{
 "cells": [
  {
   "cell_type": "markdown",
   "metadata": {},
   "source": [
    "## History of \"literature\" - Page-level co-occurrence in Hathi Trust\n",
    "\n",
    "So, to pick up where we left off last time. Over the course of the last two weeks, I've blocked in the code to do the basic page-level co-occurrence analysis, which turned out to be a bit more complex than I thought - though in some really interesting ways. After getting the overall counts for each token in each year (the \"baseline\" counts that I showed before), the next step was to extract a second, filtered set of counts that would record the number of times each word appeared on pages that contain \"literature.\" Put together, these two sets of counts give us the building blocks that we need to track the diachronic change in a word's association with literature - find words that have a particularly volatile / dynamic / \"trending\" relationship with literature over time.\n",
    "\n",
    "We're now storing two different types of counts in two tables:\n",
    "\n",
    "```sql\n",
    "CREATE TABLE count (\n",
    "\ttoken VARCHAR NOT NULL, \n",
    "\tyear INTEGER NOT NULL, \n",
    "\tcount INTEGER NOT NULL, \n",
    "\tPRIMARY KEY (token, year)\n",
    ");\n",
    "CREATE TABLE anchored_count (\n",
    "\ttoken VARCHAR NOT NULL, \n",
    "\tyear INTEGER NOT NULL, \n",
    "\tanchor_count INTEGER NOT NULL, \n",
    "\tcount INTEGER NOT NULL, \n",
    "\tPRIMARY KEY (token, year, anchor_count)\n",
    ");\n",
    "```\n",
    "\n",
    "The `count` table stores the overall, unfiltered counts for words on all pages, broken out by year. Eg:\n",
    "\n",
    "**`\"literature\" / 1900 / 89608`**\n",
    "\n",
    "Meaning, \"literature\" appears 89,608 times in 1900. Meanwhile, `anchored_count` stores counts just for words that appear on pages that contain literature, broken out by the year and by the number of times that \"literature\" itself appears on the page in question. (This will allow us to dig into the question of whether there's a difference between pages that are really _about_ literature, as opposed to pages that just use the word in passing.) Eg:\n",
    "\n",
    "**`\"poetry\" / 1900 / 4 / 5967`**\n",
    "\n",
    "Meaning - in 1900, \"poetry\" appears 5,967 times on pages where \"literature\" appears 4 times. In total, the extraction run chewed through all ~820k volumes in the Harvard collection in Hathi Trust, and observed a total of **43.5 billion** tokens:"
   ]
  },
  {
   "cell_type": "code",
   "execution_count": 1,
   "metadata": {
    "collapsed": false
   },
   "outputs": [
    {
     "name": "stdout",
     "output_type": "stream",
     "text": [
      "43401065888\n"
     ]
    }
   ],
   "source": [
    "from hol.models import Count, AnchoredCount\n",
    "\n",
    "print(Count.total_token_count())"
   ]
  },
  {
   "cell_type": "markdown",
   "metadata": {},
   "source": [
    "Which is still only about 1/5 of the whole collection. It turns out, the Harvard collection is basically a C19 corpus. Here's the overall volume trend:"
   ]
  },
  {
   "cell_type": "code",
   "execution_count": 2,
   "metadata": {
    "collapsed": false
   },
   "outputs": [
    {
     "data": {
      "text/plain": [
       "[<matplotlib.lines.Line2D at 0x1068cc048>]"
      ]
     },
     "execution_count": 2,
     "metadata": {},
     "output_type": "execute_result"
    },
    {
     "data": {
      "image/png": "[encoded data removed]",
      "text/plain": [
       "<matplotlib.figure.Figure at 0x10660cb70>"
      ]
     },
     "metadata": {},
     "output_type": "display_data"
    }
   ],
   "source": [
    "%matplotlib inline\n",
    "import matplotlib.pyplot as plt\n",
    "\n",
    "years = range(1750, 1920)\n",
    "\n",
    "series = Count.year_count_series(years)\n",
    "\n",
    "plt.title('Overall token volume, all pages')\n",
    "plt.xlabel('Year')\n",
    "plt.ylabel('Count')\n",
    "plt.plot(*zip(*series.items()))"
   ]
  },
  {
   "cell_type": "markdown",
   "metadata": {},
   "source": [
    "## The metric - log-likelihoods, ranked and scaled\n",
    "\n",
    "So, two sets of counts - one for all pages, and the other just for pages that contain \"literature.\" Even though both are drawn from the same corpus, we can think of them as representing two separate corpora - the corpus of \"literature\" pages, and the corpus of all pages, a sub-corpus and a super-corpus. What we want, is - which words appear in the literature corpus at a higher-than-expected rate, when compared against the overall frequencies in the super-corpus?\n",
    "\n",
    "There are a couple of ways to go about this - a log-likelihood tests, the Mann-Whitney ranks tests, and others. The log-likelihood is the most canonical and straightforward, though, so let's start with that. To measure the distinctiveness of \"great\" in 1900, we need 4 pieces of information:"
   ]
  },
  {
   "cell_type": "code",
   "execution_count": 3,
   "metadata": {
    "collapsed": false
   },
   "outputs": [
    {
     "name": "stdout",
     "output_type": "stream",
     "text": [
      "The number of times \"great\" appears on pages that contain \"literature\" > 5 times:\n",
      "41986 \n",
      "\n",
      "The number of times \"great\" appears on all pages:\n",
      "925673 \n",
      "\n",
      "The total number of tokens observed on pages that contain \"literature\" > 5 times:\n",
      "23646454 \n",
      "\n",
      "Total number of tokens observed on all pages:\n",
      "719028426\n"
     ]
    }
   ],
   "source": [
    "a = AnchoredCount.token_year_count('great', 1900)\n",
    "print('The number of times \"great\" appears on pages that contain \"literature\" > 5 times:')\n",
    "print(a, '\\n')\n",
    "\n",
    "b = Count.token_year_count('great', 1900)\n",
    "print('The number of times \"great\" appears on all pages:')\n",
    "print(b, '\\n')\n",
    "\n",
    "c = AnchoredCount.year_count(1900)\n",
    "print('The total number of tokens observed on pages that contain \"literature\" > 5 times:')\n",
    "print(c, '\\n')\n",
    "\n",
    "d = Count.year_count(1900)\n",
    "print('Total number of tokens observed on all pages:')\n",
    "print(d)"
   ]
  },
  {
   "cell_type": "markdown",
   "metadata": {},
   "source": [
    "Then, we can use scipy's `chi2_contingency` function to calculate the log-likelihood:"
   ]
  },
  {
   "cell_type": "code",
   "execution_count": 4,
   "metadata": {
    "collapsed": false
   },
   "outputs": [
    {
     "name": "stdout",
     "output_type": "stream",
     "text": [
      "3765.27132696\n"
     ]
    }
   ],
   "source": [
    "import numpy as np\n",
    "\n",
    "from scipy.stats import chi2_contingency\n",
    "\n",
    "g, p, dof, exp = chi2_contingency(\n",
    "    np.array([[a, b], [c, d]]),\n",
    "    lambda_='log-likelihood',\n",
    ")\n",
    "\n",
    "print(g)"
   ]
  },
  {
   "cell_type": "markdown",
   "metadata": {},
   "source": [
    "This is expensive to compute for an individual word, but it can be sped up by querying big batches of counts and calculating the scores in bulk. These get shoveled into a `score` table, which stores the token, year, log-likelihood (\"score\"), and a derived \"rank\" metric, which we'll look at in a moment:\n",
    "\n",
    "```sql\n",
    "CREATE TABLE score (\n",
    "\ttoken VARCHAR NOT NULL, \n",
    "\tyear INTEGER NOT NULL, \n",
    "\tscore FLOAT NOT NULL, \n",
    "\tPRIMARY KEY (token, year)\n",
    ");\n",
    "```\n",
    "\n",
    "So, once we've filled in this table with log-likelihood scores for each token in each year, we can generate a list of the words in a given year that are most associated with literature. Here's the list for 1900, pulling from pages that contain literature more than 5 times:"
   ]
  },
  {
   "cell_type": "code",
   "execution_count": 5,
   "metadata": {
    "collapsed": false
   },
   "outputs": [
    {
     "name": "stdout",
     "output_type": "stream",
     "text": [
      "OrderedDict([('english', 11343.758863638539),\n",
      "             ('literary', 9269.245377038995),\n",
      "             ('history', 7702.690766636572),\n",
      "             ('professor', 6936.655142529855),\n",
      "             ('books', 6115.275516958516),\n",
      "             ('language', 4836.8724286320175),\n",
      "             ('book', 4441.464551126228),\n",
      "             ('study', 4368.438716046283),\n",
      "             ('poetry', 3979.5542975552166),\n",
      "             ('library', 3756.0847292648536),\n",
      "             ('of', 3227.2424626878637),\n",
      "             ('university', 3195.9592170553415),\n",
      "             ('reading', 3048.035788981686),\n",
      "             ('authors', 3016.0386818292836),\n",
      "             ('prose', 2924.5628235120166),\n",
      "             ('american', 2894.2817624782965),\n",
      "             ('century', 2863.7580836209354),\n",
      "             ('author', 2626.9518352891346),\n",
      "             ('writers', 2611.612610123155),\n",
      "             ('edited', 2466.8276362267034),\n",
      "             ('work', 2168.908138609032),\n",
      "             ('poems', 2139.6277953710187),\n",
      "             ('latin', 2046.0985692329868),\n",
      "             ('poets', 2018.4556132203238),\n",
      "             ('essays', 1983.7730540522368),\n",
      "             ('german', 1974.699375890986),\n",
      "             ('i', 1937.1827532635416),\n",
      "             ('works', 1936.9104727029544),\n",
      "             ('introduction', 1896.8514663912904),\n",
      "             ('languages', 1870.7053287508893),\n",
      "             ('school', 1789.3568749496121),\n",
      "             ('criticism', 1772.942131185067),\n",
      "             ('modern', 1759.9349828657062),\n",
      "             ('her', 1727.692987142913),\n",
      "             ('was', 1699.7703492773753),\n",
      "             ('greek', 1679.0718864254418),\n",
      "             ('you', 1631.4453115839565),\n",
      "             ('french', 1606.6453017653937),\n",
      "             ('readers', 1596.8975349131529),\n",
      "             ('science', 1575.713398118059),\n",
      "             ('had', 1561.6453059826272),\n",
      "             ('bibliography', 1553.5453156821993),\n",
      "             ('she', 1537.0440592827022),\n",
      "             ('my', 1432.5347775247128),\n",
      "             ('studies', 1426.0328005193182),\n",
      "             ('new', 1422.6518956711284),\n",
      "             ('bible', 1358.4526001886993),\n",
      "             ('fiction', 1319.1544091018036),\n",
      "             ('libraries', 1280.3822281537177),\n",
      "             ('grammar', 1273.6572805443634)])\n"
     ]
    }
   ],
   "source": [
    "import pprint\n",
    "\n",
    "from collections import OrderedDict\n",
    "from hol.models import Score\n",
    "\n",
    "topn = Score.topn_by_year(1900, 50)\n",
    "    \n",
    "pp = pprint.PrettyPrinter()\n",
    "pp.pprint(topn)"
   ]
  },
  {
   "cell_type": "markdown",
   "metadata": {},
   "source": [
    "Looks sensible, with a couple curiosities (\"of\"?), which I'll get into later. So now, with this, the next step is to pull these stats for each year, and string together time-series signals for each word to get a diachronic progression of it's stickiness with literature. But, out-of-the-box, this doesn't work. The problem is that the log-likelihood scores can be used to compare words within an individual year, but not _across_ years, because the values are boosted by the overall volumes of the tokens. This is actually a feature of the log-likelihood, not a bug - when scoring a word, it rewards tokens that both (a) have a higher-than-expected frequency in the analysis corpus and (b) have a high overall frequency. This is important, because otherwise the top of the list would be swamped by very infrequent words that - for instance - were expected to appear 1 time but actualy appeared 5 times. If you just compare the values directly, this comes out to a 500% increase over the expected. But, since the numbers are so small, this could just be a fluke - a single page out of millions. The intuition behind log-likelihood is that we care much more about a word that's expected to appear 1,000 times but actually occurs 1,200. Just a 20% increase, but we can say with much more confidence that the difference is meaningful.\n",
    "\n",
    "So, log-likelihood is great for ranking words inside of a single year, but it means that if we string together the raw scores into time series, we end up just proxying the overall volume trend. For example, here's the log-likelihood series for \"history\":"
   ]
  },
  {
   "cell_type": "code",
   "execution_count": 6,
   "metadata": {
    "collapsed": false
   },
   "outputs": [
    {
     "data": {
      "text/plain": [
       "[<matplotlib.lines.Line2D at 0x106a9e0f0>]"
      ]
     },
     "execution_count": 6,
     "metadata": {},
     "output_type": "execute_result"
    },
    {
     "data": {
      "image/png": "[encoded data removed]",
      "text/plain": [
       "<matplotlib.figure.Figure at 0x1069d5160>"
      ]
     },
     "metadata": {},
     "output_type": "display_data"
    }
   ],
   "source": [
    "years = range(1750, 1920)\n",
    "\n",
    "series = Score.score_series_smooth('history', years)\n",
    "\n",
    "plt.title('Raw log-likelihood series')\n",
    "plt.xlabel('Year')\n",
    "plt.ylabel('Score')\n",
    "plt.plot(*zip(*series.items()))"
   ]
  },
  {
   "cell_type": "markdown",
   "metadata": {},
   "source": [
    "But compare this to the baseline frequency trend for \"history\":"
   ]
  },
  {
   "cell_type": "code",
   "execution_count": 7,
   "metadata": {
    "collapsed": false
   },
   "outputs": [
    {
     "data": {
      "text/plain": [
       "[<matplotlib.lines.Line2D at 0x1069b5e80>]"
      ]
     },
     "execution_count": 7,
     "metadata": {},
     "output_type": "execute_result"
    },
    {
     "data": {
      "image/png": "[encoded data removed]",
      "text/plain": [
       "<matplotlib.figure.Figure at 0x106aa99e8>"
      ]
     },
     "metadata": {},
     "output_type": "display_data"
    }
   ],
   "source": [
    "years = range(1750, 1920)\n",
    "\n",
    "series = Count.token_count_series_smooth('great', years)\n",
    "\n",
    "plt.title('Baseline volume trend')\n",
    "plt.xlabel('Year')\n",
    "plt.ylabel('Count')\n",
    "plt.plot(*zip(*series.items()))"
   ]
  },
  {
   "cell_type": "markdown",
   "metadata": {},
   "source": [
    "This is the same data, essentially, just in different units. We need a way to normalize the magnitudes of the log-likelihoods, similar to the words-per-million scaling that we use on the overall frequencies. This is an interesting problem. At first, I tried just scaling everything down to \"unit variance\" - sliding and squishing the scores so that they center around 0 and have a variance of 1. But, when I plotted the transformed scores, the trend lines looked basically unchanged - still basically just a proxy for volume.\n",
    "\n",
    "This doesn't work, I think, because _the total number of unique word forms in a year increases along with the overall volume_. In other words, if there are 1,000 total tokens in 1800 and 100 unique word forms, then in 1900 there might be 10,000 total tokens but _1,000_ unique words, not just more occurrences of the same set of 100. Most of these new words will be un-correlated with \"literature,\" which has the effect of packing in lots of low-correlation words right around the mean at 0. Which, in turn, allows the high-magnitude outliers to creep further and further away from 0 over time - shadowing the volume increase - even while holding the variance at 1.\n",
    "\n",
    "To fix this, I first tried this:\n",
    "\n",
    "1. Take the rank-order of the log-likelihood scores. Eg, for N scores - the lowest score gets a rank of 1 the highest a rank of N.\n",
    "\n",
    "1. Project the ranks down to a 0-1 scale.\n",
    "\n",
    "The idea is to capture a word's _position_ on the \"depth chart\" for the year, with 0 at the bottom and 1 at the top. So, we get this for 1900 - same rank order, but now with the normalized scores:"
   ]
  },
  {
   "cell_type": "code",
   "execution_count": null,
   "metadata": {
    "collapsed": true
   },
   "outputs": [],
   "source": []
  },
  {
   "cell_type": "code",
   "execution_count": null,
   "metadata": {
    "collapsed": true
   },
   "outputs": [],
   "source": []
  },
  {
   "cell_type": "code",
   "execution_count": null,
   "metadata": {
    "collapsed": true
   },
   "outputs": [],
   "source": []
  },
  {
   "cell_type": "code",
   "execution_count": 8,
   "metadata": {
    "collapsed": false
   },
   "outputs": [
    {
     "data": {
      "text/plain": [
       "[<matplotlib.lines.Line2D at 0x1071b4dd8>]"
      ]
     },
     "execution_count": 8,
     "metadata": {},
     "output_type": "execute_result"
    },
    {
     "data": {
      "image/png": "[encoded data removed]",
      "text/plain": [
       "<matplotlib.figure.Figure at 0x107119780>"
      ]
     },
     "metadata": {},
     "output_type": "display_data"
    }
   ],
   "source": [
    "from hol.topn_series import TopnSeries\n",
    "\n",
    "years = range(1750, 1920)\n",
    "\n",
    "topns = TopnSeries(years)\n",
    "\n",
    "series = topns.rank_series_smooth('history')\n",
    "\n",
    "plt.title('Rank time series')\n",
    "plt.xlabel('Year')\n",
    "plt.ylabel('Rank')\n",
    "plt.plot(*zip(*series.items()))"
   ]
  },
  {
   "cell_type": "code",
   "execution_count": null,
   "metadata": {
    "collapsed": true
   },
   "outputs": [],
   "source": []
  }
 ],
 "metadata": {
  "kernelspec": {
   "display_name": "Python 3",
   "language": "python",
   "name": "python3"
  },
  "language_info": {
   "codemirror_mode": {
    "name": "ipython",
    "version": 3
   },
   "file_extension": ".py",
   "mimetype": "text/x-python",
   "name": "python",
   "nbconvert_exporter": "python",
   "pygments_lexer": "ipython3",
   "version": "3.5.0"
  }
 },
 "nbformat": 4,
 "nbformat_minor": 0
}
