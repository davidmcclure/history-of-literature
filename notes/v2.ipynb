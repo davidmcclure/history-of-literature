{
 "cells": [
  {
   "cell_type": "markdown",
   "metadata": {},
   "source": [
    "## History of \"literature\" - Page-level co-occurrence in Hathi Trust\n",
    "\n",
    "So, to pick up where we left off last time. Over the course of the last two weeks, I've blocked in the code to do the basic page-level co-occurrence analysis, which turned out to be a bit more complex than I thought - though in some really interesting ways. After getting the overall counts for each token in each year (the \"baseline\" counts that I showed before), the next step was to extract a second, filtered set of counts that would record the number of times each word appeared on pages that contain \"literature.\" Put together, these two sets of counts give us the building blocks that we need to track the diachronic change in a word's association with literature - find words that have a particularly volatile / dynamic / \"trending\" relationship with literature over time.\n",
    "\n",
    "We're now storing two different types of counts in two tables:\n",
    "\n",
    "```sql\n",
    "CREATE TABLE count (\n",
    "\ttoken VARCHAR NOT NULL, \n",
    "\tyear INTEGER NOT NULL, \n",
    "\tcount INTEGER NOT NULL, \n",
    "\tPRIMARY KEY (token, year)\n",
    ");\n",
    "CREATE TABLE anchored_count (\n",
    "\ttoken VARCHAR NOT NULL, \n",
    "\tyear INTEGER NOT NULL, \n",
    "\tanchor_count INTEGER NOT NULL, \n",
    "\tcount INTEGER NOT NULL, \n",
    "\tPRIMARY KEY (token, year, anchor_count)\n",
    ");\n",
    "```\n",
    "\n",
    "The `count` table stores the overall, unfiltered counts for words on all pages, broken out by year. Eg:\n",
    "\n",
    "**`\"literature\" / 1900 / 89608`**\n",
    "\n",
    "Meaning, \"literature\" appears 89,608 times in 1900. Meanwhile, `anchored_count` stores counts just for words that appear on pages that contain literature, broken out by the year and by the number of times that \"literature\" itself appears on the page in question. (This will allow us to dig into the question of whether there's a difference between pages that are really _about_ literature, as opposed to pages that just use the word in passing.) Eg:\n",
    "\n",
    "**`\"poetry\" / 1900 / 4 / 5967`**\n",
    "\n",
    "Meaning - in 1900, \"poetry\" appears 5,967 times on pages where \"literature\" appears 4 times. In total, the extraction run chewed through all ~820k volumes in the Harvard collection in Hathi Trust, and observed a total of **43.5 billion** tokens:"
   ]
  },
  {
   "cell_type": "code",
   "execution_count": 1,
   "metadata": {
    "collapsed": false
   },
   "outputs": [
    {
     "name": "stdout",
     "output_type": "stream",
     "text": [
      "43401065888\n"
     ]
    }
   ],
   "source": [
    "from hol.models import Count, AnchoredCount\n",
    "\n",
    "print(Count.total_token_count())"
   ]
  },
  {
   "cell_type": "markdown",
   "metadata": {},
   "source": [
    "Which is still only about 1/5 of the whole collection. It turns out, the Harvard collection is basically a C19 corpus. Here's the overall volume trend:"
   ]
  },
  {
   "cell_type": "code",
   "execution_count": 2,
   "metadata": {
    "collapsed": false
   },
   "outputs": [
    {
     "data": {
      "text/plain": [
       "[<matplotlib.lines.Line2D at 0x11510a240>]"
      ]
     },
     "execution_count": 2,
     "metadata": {},
     "output_type": "execute_result"
    },
    {
     "data": {
      "image/png": "[encoded data removed]",
      "text/plain": [
       "<matplotlib.figure.Figure at 0x1113ec080>"
      ]
     },
     "metadata": {},
     "output_type": "display_data"
    }
   ],
   "source": [
    "%matplotlib inline\n",
    "import matplotlib.pyplot as plt\n",
    "\n",
    "years = range(1750, 1920)\n",
    "\n",
    "series = Count.year_count_series(years)\n",
    "\n",
    "plt.title('Overall token volume, all pages')\n",
    "plt.xlabel('Year')\n",
    "plt.ylabel('Count')\n",
    "plt.plot(*zip(*series.items()))"
   ]
  },
  {
   "cell_type": "markdown",
   "metadata": {},
   "source": [
    "## The metric - log-likelihoods, ranked and scaled\n",
    "\n",
    "So, two sets of counts - one for all pages, and the other just for pages that contain \"literature.\" Even though both are drawn from the same corpus, we can think of them as representing two separate corpora - the corpus of \"literature\" pages, and the corpus of all pages, a sub-corpus and a super-corpus. What we want, is - which words appear in the literature corpus at a higher-than-expected rate, when compared against the overall frequencies in the super-corpus?\n",
    "\n",
    "There are a couple of ways to go about this - a log-likelihood tests, the Mann-Whitney ranks tests, and others. The log-likelihood is the most canonical and straightforward, though, so let's start with that. To measure the distinctiveness of \"great\" in 1900, we need 4 pieces of information:"
   ]
  },
  {
   "cell_type": "code",
   "execution_count": 3,
   "metadata": {
    "collapsed": false
   },
   "outputs": [
    {
     "name": "stdout",
     "output_type": "stream",
     "text": [
      "The number of times \"great\" appears on pages that contain \"literature\" > 5 times:\n",
      "41986 \n",
      "\n",
      "The number of times \"great\" appears on all pages:\n",
      "925673 \n",
      "\n",
      "The total number of tokens observed on pages that contain \"literature\" > 5 times:\n",
      "23646454 \n",
      "\n",
      "Total number of tokens observed on all pages:\n",
      "719028426\n"
     ]
    }
   ],
   "source": [
    "a = AnchoredCount.token_year_count('great', 1900)\n",
    "print('The number of times \"great\" appears on pages that contain \"literature\" > 5 times:')\n",
    "print(a, '\\n')\n",
    "\n",
    "b = Count.token_year_count('great', 1900)\n",
    "print('The number of times \"great\" appears on all pages:')\n",
    "print(b, '\\n')\n",
    "\n",
    "c = AnchoredCount.year_count(1900)\n",
    "print('The total number of tokens observed on pages that contain \"literature\" > 5 times:')\n",
    "print(c, '\\n')\n",
    "\n",
    "d = Count.year_count(1900)\n",
    "print('Total number of tokens observed on all pages:')\n",
    "print(d)"
   ]
  },
  {
   "cell_type": "markdown",
   "metadata": {},
   "source": [
    "Then, we can use scipy's `chi2_contingency` function to calculate the log-likelihood:"
   ]
  },
  {
   "cell_type": "code",
   "execution_count": 4,
   "metadata": {
    "collapsed": false
   },
   "outputs": [
    {
     "name": "stdout",
     "output_type": "stream",
     "text": [
      "3765.27132696\n"
     ]
    }
   ],
   "source": [
    "import numpy as np\n",
    "\n",
    "from scipy.stats import chi2_contingency\n",
    "\n",
    "g, p, dof, exp = chi2_contingency(\n",
    "    np.array([[a, b], [c, d]]),\n",
    "    lambda_='log-likelihood',\n",
    ")\n",
    "\n",
    "print(g)"
   ]
  },
  {
   "cell_type": "markdown",
   "metadata": {},
   "source": [
    "This is expensive to compute for an individual word, but it can be sped up by querying big batches of counts and calculating the scores in bulk. These get shoveled into a `score` table, which stores the token, year, log-likelihood (\"score\"), and a derived \"rank\" metric, which we'll look at in a moment:\n",
    "\n",
    "```sql\n",
    "CREATE TABLE score (\n",
    "\ttoken VARCHAR NOT NULL, \n",
    "\tyear INTEGER NOT NULL, \n",
    "\tscore FLOAT NOT NULL, \n",
    "\tPRIMARY KEY (token, year)\n",
    ");\n",
    "```\n",
    "\n",
    "So, once we've filled in this table with log-likelihood scores for each token in each year, we can generate a list of the words in a given year that are most associated with literature. Here's the list for 1900, pulling from pages that contain literature more than 5 times:"
   ]
  },
  {
   "cell_type": "code",
   "execution_count": 5,
   "metadata": {
    "collapsed": false
   },
   "outputs": [
    {
     "name": "stdout",
     "output_type": "stream",
     "text": [
      "OrderedDict([('english', 5995.673107665032),\n",
      "             ('literary', 3820.5985417596894),\n",
      "             ('history', 3705.8351214244103),\n",
      "             ('professor', 3239.294100448038),\n",
      "             ('language', 2290.153895401676),\n",
      "             ('books', 2001.668119215872),\n",
      "             ('american', 1687.7482990107574),\n",
      "             ('book', 1642.570412227638),\n",
      "             ('poetry', 1507.4949554457794),\n",
      "             ('university', 1459.2288094651908),\n",
      "             ('study', 1341.981826871721),\n",
      "             ('prose', 1308.1927198202545),\n",
      "             ('writers', 1282.4655070881258),\n",
      "             ('authors', 1250.9792908355407),\n",
      "             ('century', 1201.2861031609016),\n",
      "             ('languages', 1110.6825168783676),\n",
      "             ('of', 1026.6466562692985),\n",
      "             ('german', 996.5862329926136),\n",
      "             ('latin', 976.1989634215894),\n",
      "             ('library', 963.2981365407198),\n",
      "             ('reading', 894.3778861350803),\n",
      "             ('was', 881.3246952594754),\n",
      "             ('poets', 879.823116799583),\n",
      "             ('author', 876.1358551470263),\n",
      "             ('greek', 841.2914458280678),\n",
      "             ('modern', 813.63349744251),\n",
      "             ('works', 790.2395850366632),\n",
      "             ('french', 780.3627708433779),\n",
      "             ('i', 722.3546854081719),\n",
      "             ('pp', 720.9976248562338),\n",
      "             ('science', 695.5899167821951),\n",
      "             ('poems', 655.3161504683205),\n",
      "             ('magazine', 629.8792117205817),\n",
      "             ('you', 624.9408434573188),\n",
      "             ('lectures', 617.2799964533388),\n",
      "             ('work', 606.6793209957125),\n",
      "             ('school', 601.1047933061151),\n",
      "             ('philosophy', 593.4548666710408),\n",
      "             ('college', 585.289186036999),\n",
      "             ('grammar', 574.271846553351),\n",
      "             ('had', 563.2276495668887),\n",
      "             ('vol', 560.0511731124175),\n",
      "             ('essays', 554.4258197227148),\n",
      "             ('italian', 550.2709673659517),\n",
      "             ('her', 549.9463521316814),\n",
      "             ('she', 546.6352766197415),\n",
      "             ('criticism', 546.0183464482134),\n",
      "             ('life', 525.1645858782739),\n",
      "             ('fiction', 518.1490624230113),\n",
      "             ('he', 518.132251896001)])\n"
     ]
    }
   ],
   "source": [
    "import pprint\n",
    "\n",
    "from collections import OrderedDict\n",
    "from hol.models import Score\n",
    "\n",
    "topn = Score.topn_by_year(1900, 50)\n",
    "\n",
    "scores = OrderedDict()\n",
    "for token, (score, rank) in topn.items():\n",
    "    scores[token] = score\n",
    "    \n",
    "pp = pprint.PrettyPrinter()\n",
    "pp.pprint(scores)"
   ]
  },
  {
   "cell_type": "markdown",
   "metadata": {},
   "source": [
    "Looks sensible, with a couple curiosities (\"of\"?), which I'll get into later. So now, with this, the next step is to pull these stats for each year, and string together time-series signals for each word to get a diachronic progression of it's stickiness with literature. But, out-of-the-box, this doesn't work. The problem is that the log-likelihood scores can be used to compare words within an individual year, but not _across_ years, because the values are boosted by the overall volumes of the tokens. This is actually a feature of the log-likelihood, not a bug - when scoring a word, it rewards tokens that both (a) have a higher-than-expected frequency in the analysis corpus and (b) have a high overall frequency. This is important, because otherwise the top of the list would be swamped by very infrequent words that - for instance - were expected to appear 1 time but actualy appeared 5 times. If you just compare the values directly, this comes out to a 500% increase over the expected. But, since the numbers are so small, this could just be a fluke - a single page out of millions. The intuition behind log-likelihood is that we care much more about a word that's expected to appear 1,000 times but actually occurs 1,200. Just a 20% increase, but we can say with much more confidence that the difference is meaningful.\n",
    "\n",
    "So, log-likelihood is great for ranking words inside of a single year, but it means that if we string together the raw scores into time series, we end up just proxying the overall volume trend. For example, here's the log-likelihood series for \"great\":"
   ]
  },
  {
   "cell_type": "code",
   "execution_count": 6,
   "metadata": {
    "collapsed": false
   },
   "outputs": [
    {
     "data": {
      "text/plain": [
       "[<matplotlib.lines.Line2D at 0x115596b70>]"
      ]
     },
     "execution_count": 6,
     "metadata": {},
     "output_type": "execute_result"
    },
    {
     "data": {
      "image/png": "[encoded data removed]",
      "text/plain": [
       "<matplotlib.figure.Figure at 0x1154c11d0>"
      ]
     },
     "metadata": {},
     "output_type": "display_data"
    }
   ],
   "source": [
    "years = range(1750, 1920)\n",
    "\n",
    "series = Score.score_series_smooth('great', years)\n",
    "\n",
    "plt.title('Raw log-likelihood series')\n",
    "plt.xlabel('Year')\n",
    "plt.ylabel('Score')\n",
    "plt.plot(*zip(*series.items()))"
   ]
  },
  {
   "cell_type": "markdown",
   "metadata": {},
   "source": [
    "But compare this to the baseline frequency trend for \"great\":"
   ]
  },
  {
   "cell_type": "code",
   "execution_count": 7,
   "metadata": {
    "collapsed": false
   },
   "outputs": [
    {
     "data": {
      "text/plain": [
       "[<matplotlib.lines.Line2D at 0x115692b00>]"
      ]
     },
     "execution_count": 7,
     "metadata": {},
     "output_type": "execute_result"
    },
    {
     "data": {
      "image/png": "[encoded data removed]",
      "text/plain": [
       "<matplotlib.figure.Figure at 0x1155526a0>"
      ]
     },
     "metadata": {},
     "output_type": "display_data"
    }
   ],
   "source": [
    "years = range(1750, 1920)\n",
    "\n",
    "series = Count.token_count_series_smooth('great', years)\n",
    "\n",
    "plt.title('Baseline volume trend')\n",
    "plt.xlabel('Year')\n",
    "plt.ylabel('Count')\n",
    "plt.plot(*zip(*series.items()))"
   ]
  },
  {
   "cell_type": "markdown",
   "metadata": {},
   "source": [
    "Both increase fairly monotonically, then fall off near the end of the 19th century. There's clearly some difference here - the log-likelihood peaks earlier? - but it's fairly subtle and would be hard to tease out computationally. What we really want, though, is a way to normalize the magnitudes of the log-likelihoods, similar to the words-per-million scaling that we use on the overall frequencies. This is an interesting problem. At first, I tried just scaling everything down to \"unit variance\" - sliding and squishing the scores so that they center around 0 and have a variance of 1. But, when I plotted the transformed scores, the trend lines looked basically unchanged - still basically just a proxy for volume.\n",
    "\n",
    "This doesn't work, I think, because _the total number of unique word forms in a year increases along with the overall volume_. In other words, if there are 1,000 total tokens in 1800 and 100 unique word forms, then in 1900 there might be 10,000 total tokens but _1,000_ unique words, not just more occurrences of the same set of 100. Most of these new words will be un-correlated with \"literature,\" which has the effect of packing in lots of low-correlation words right around the mean at 0. Which, in turn, allows the high-magnitude outliers to creep further and further away from 0 over time - shadowing the volume increase - even while holding the variance at 1.\n",
    "\n",
    "To fix this, I first tried this:\n",
    "\n",
    "1. Take the rank-order of the log-likelihood scores. Eg, for N scores - the lowest score gets a rank of 1 the highest a rank of N.\n",
    "\n",
    "1. Project the ranks down to a 0-1 scale.\n",
    "\n",
    "The idea is to capture a word's _position_ on the \"depth chart\" for the year, with 0 at the bottom and 1 at the top. So, we get this for 1900 - same rank order, but now with the normalized scores:"
   ]
  },
  {
   "cell_type": "code",
   "execution_count": 11,
   "metadata": {
    "collapsed": false
   },
   "outputs": [
    {
     "name": "stdout",
     "output_type": "stream",
     "text": [
      "OrderedDict([('english', 0.9999999999999999),\n",
      "             ('literary', 0.9998570407433881),\n",
      "             ('history', 0.9997140814867762),\n",
      "             ('professor', 0.9995711222301643),\n",
      "             ('language', 0.9994281629735524),\n",
      "             ('books', 0.9992852037169406),\n",
      "             ('american', 0.9991422444603287),\n",
      "             ('book', 0.9989992852037168),\n",
      "             ('poetry', 0.998856325947105),\n",
      "             ('university', 0.9987133666904932),\n",
      "             ('study', 0.9985704074338813),\n",
      "             ('prose', 0.9984274481772694),\n",
      "             ('writers', 0.9982844889206576),\n",
      "             ('authors', 0.9981415296640457),\n",
      "             ('century', 0.9979985704074338),\n",
      "             ('languages', 0.9978556111508219),\n",
      "             ('of', 0.9977126518942101),\n",
      "             ('german', 0.9975696926375982),\n",
      "             ('latin', 0.9974267333809863),\n",
      "             ('library', 0.9972837741243745),\n",
      "             ('reading', 0.9971408148677626),\n",
      "             ('was', 0.9969978556111507),\n",
      "             ('poets', 0.9968548963545388),\n",
      "             ('author', 0.996711937097927),\n",
      "             ('greek', 0.9965689778413152),\n",
      "             ('modern', 0.9964260185847033),\n",
      "             ('works', 0.9962830593280915),\n",
      "             ('french', 0.9961401000714796),\n",
      "             ('i', 0.9959971408148677),\n",
      "             ('pp', 0.9958541815582558),\n",
      "             ('science', 0.995711222301644),\n",
      "             ('poems', 0.9955682630450321),\n",
      "             ('magazine', 0.9954253037884202),\n",
      "             ('you', 0.9952823445318083),\n",
      "             ('lectures', 0.9951393852751965),\n",
      "             ('work', 0.9949964260185846),\n",
      "             ('school', 0.9948534667619727),\n",
      "             ('philosophy', 0.9947105075053609),\n",
      "             ('college', 0.994567548248749),\n",
      "             ('grammar', 0.9944245889921371),\n",
      "             ('had', 0.9942816297355253),\n",
      "             ('vol', 0.9941386704789135),\n",
      "             ('essays', 0.9939957112223016),\n",
      "             ('italian', 0.9938527519656897),\n",
      "             ('her', 0.9937097927090779),\n",
      "             ('she', 0.993566833452466),\n",
      "             ('criticism', 0.9934238741958541),\n",
      "             ('life', 0.9932809149392422),\n",
      "             ('fiction', 0.9931379556826304),\n",
      "             ('he', 0.9929949964260185)])\n"
     ]
    }
   ],
   "source": [
    "topn = Score.topn_by_year(1900, 50)\n",
    "\n",
    "scores = OrderedDict()\n",
    "for token, (score, rank) in topn.items():\n",
    "    scores[token] = rank\n",
    "    \n",
    "pp = pprint.PrettyPrinter()\n",
    "pp.pprint(scores)"
   ]
  },
  {
   "cell_type": "code",
   "execution_count": null,
   "metadata": {
    "collapsed": true
   },
   "outputs": [],
   "source": []
  },
  {
   "cell_type": "code",
   "execution_count": null,
   "metadata": {
    "collapsed": true
   },
   "outputs": [],
   "source": []
  },
  {
   "cell_type": "code",
   "execution_count": null,
   "metadata": {
    "collapsed": true
   },
   "outputs": [],
   "source": []
  },
  {
   "cell_type": "code",
   "execution_count": null,
   "metadata": {
    "collapsed": true
   },
   "outputs": [],
   "source": []
  },
  {
   "cell_type": "markdown",
   "metadata": {},
   "source": [
    "And now, when we plot the time-series progressions for these values, we can start to get some real interpretive purchase on the question at hand. Here's the normalized signal for \"great\" from 1750 - 1920:"
   ]
  },
  {
   "cell_type": "code",
   "execution_count": 9,
   "metadata": {
    "collapsed": false
   },
   "outputs": [
    {
     "data": {
      "text/plain": [
       "[<matplotlib.lines.Line2D at 0x1157902b0>]"
      ]
     },
     "execution_count": 9,
     "metadata": {},
     "output_type": "execute_result"
    },
    {
     "data": {
      "image/png": "[encoded data removed]",
      "text/plain": [
       "<matplotlib.figure.Figure at 0x1118b9518>"
      ]
     },
     "metadata": {},
     "output_type": "display_data"
    }
   ],
   "source": [
    "years = range(1750, 1920)\n",
    "\n",
    "series = Score.rank_series_smooth('great', years)\n",
    "\n",
    "plt.title('Normalized ranks')\n",
    "plt.xlabel('Year')\n",
    "plt.ylabel('Rank')\n",
    "plt.plot(*zip(*series.items()))"
   ]
  },
  {
   "cell_type": "markdown",
   "metadata": {},
   "source": [
    "Ah! So, \"great\" is basically un-correlated with \"literature\" at the beginning of the 19th century, but then rapidly climps up to the top of the list and stays there from ~1840 on. (The dip at the end is a smoothing artifact.) Even while the relative frequency of \"great\" monotonically decreases over the same period:"
   ]
  },
  {
   "cell_type": "code",
   "execution_count": 10,
   "metadata": {
    "collapsed": false
   },
   "outputs": [
    {
     "data": {
      "text/plain": [
       "[<matplotlib.lines.Line2D at 0x110340128>]"
      ]
     },
     "execution_count": 10,
     "metadata": {},
     "output_type": "execute_result"
    },
    {
     "data": {
      "image/png": "[encoded data removed]",
      "text/plain": [
       "<matplotlib.figure.Figure at 0x1156aee10>"
      ]
     },
     "metadata": {},
     "output_type": "display_data"
    }
   ],
   "source": [
    "years = range(1750, 1920)\n",
    "\n",
    "series = Count.token_wpm_series_smooth('great', years)\n",
    "\n",
    "plt.title('Volume-adjusted frequency')\n",
    "plt.xlabel('Year')\n",
    "plt.ylabel('WPM')\n",
    "plt.plot(*zip(*series.items()))"
   ]
  },
  {
   "cell_type": "markdown",
   "metadata": {},
   "source": [
    "This looks like good evidence that we're picking up on a signal for \"stickiness\" with literature that's independent of the baseline frequency trend."
   ]
  },
  {
   "cell_type": "markdown",
   "metadata": {},
   "source": [
    "## Finding \"volatile\" signals\n",
    "\n",
    "So, given the huge sea of words in the database - how to we find words that have potentially intersting relationships with literature? There are lots of ways to go about this, I think. To start, though, let's do this - just take the raw variance of the values in the signal, which will pick out words that have both very high and very low values over the coures of the 19th century - words with high \"acceleration\" to and from literature.\n",
    "\n",
    "Take a look at the appendix for a complete list of the top 200 words, ranked in this way. A couple of observations:\n",
    "\n",
    "**TODO**"
   ]
  },
  {
   "cell_type": "code",
   "execution_count": null,
   "metadata": {
    "collapsed": true
   },
   "outputs": [],
   "source": []
  }
 ],
 "metadata": {
  "kernelspec": {
   "display_name": "Python 3",
   "language": "python",
   "name": "python3"
  },
  "language_info": {
   "codemirror_mode": {
    "name": "ipython",
    "version": 3
   },
   "file_extension": ".py",
   "mimetype": "text/x-python",
   "name": "python",
   "nbconvert_exporter": "python",
   "pygments_lexer": "ipython3",
   "version": "3.5.0"
  }
 },
 "nbformat": 4,
 "nbformat_minor": 0
}
