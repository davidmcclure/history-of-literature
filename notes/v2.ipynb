{
 "cells": [
  {
   "cell_type": "markdown",
   "metadata": {},
   "source": [
    "## History of \"literature\" - Co-occurrence in Hathi Trust\n",
    "\n",
    "So, to pick up where we left off last time. Over the course of the last two weeks, I've completed the basic page-level co-occurrence analysis - tracking the diachronic correlation or \"attachment\" of different words with \"literature.\" This turned out to be a bit more complex than I thought, but, after coming at it from a couple different directions, I think I've found an angle that produces some interesting results.\n",
    "\n",
    "After getting the overall counts for each token in each year (the \"baseline\" counts that we looked at before), the next step was to extract a second, filtered set of counts that would record the number of times each word appeared on pages that contain \"literature.\"\n",
    "\n",
    "The two sets of counts get stored in separate tables:\n",
    "\n",
    "```sql\n",
    "CREATE TABLE count (\n",
    "\ttoken VARCHAR NOT NULL, \n",
    "\tyear INTEGER NOT NULL, \n",
    "\tcount INTEGER NOT NULL, \n",
    "\tPRIMARY KEY (token, year)\n",
    ");\n",
    "CREATE TABLE anchored_count (\n",
    "\ttoken VARCHAR NOT NULL, \n",
    "\tyear INTEGER NOT NULL, \n",
    "\tanchor_count INTEGER NOT NULL, \n",
    "\tcount INTEGER NOT NULL, \n",
    "\tPRIMARY KEY (token, year, anchor_count)\n",
    ");\n",
    "```\n",
    "\n",
    "The `count` table stores the overall, unfiltered counts for words on all pages, broken out by year. Eg:\n",
    "\n",
    "**`\"literature\" / 1900 / 89608`**\n",
    "\n",
    "Meaning, \"literature\" appears 89,608 times in 1900. Meanwhile, `anchored_count` stores counts just for words that appear on pages that contain \"literature,\" broken out by the year and by the number of times that \"literature\" itself appears on the page in question. (This will allow us to dig into the question of whether there's a difference between pages that are really _about_ literature, as opposed to pages that just use the word in passing.) Eg:\n",
    "\n",
    "**`\"poetry\" / 1900 / 4 / 5967`**\n",
    "\n",
    "Meaning - in 1900, \"poetry\" appears 5,967 times on pages where \"literature\" appears 4 times. In total, the extraction run chewed through all ~820k volumes in the Harvard collection in Hathi Trust, and observed a total of **43.5 billion** tokens:"
   ]
  },
  {
   "cell_type": "code",
   "execution_count": 1,
   "metadata": {
    "collapsed": false
   },
   "outputs": [
    {
     "name": "stdout",
     "output_type": "stream",
     "text": [
      "43401065888\n"
     ]
    }
   ],
   "source": [
    "from hol.models import Count, AnchoredCount\n",
    "\n",
    "print(Count.total_token_count())"
   ]
  },
  {
   "cell_type": "markdown",
   "metadata": {},
   "source": [
    "Which is still only about 1/5 of the whole collection. The Harvard collection, it turns out, is basically a C19 corpus. Here's the overall volume trend:"
   ]
  },
  {
   "cell_type": "code",
   "execution_count": null,
   "metadata": {
    "collapsed": false
   },
   "outputs": [
    {
     "data": {
      "text/plain": [
       "[<matplotlib.lines.Line2D at 0x10805a080>]"
      ]
     },
     "execution_count": 2,
     "metadata": {},
     "output_type": "execute_result"
    },
    {
     "data": {
      "image/png": "[encoded data removed]",
      "text/plain": [
       "<matplotlib.figure.Figure at 0x107e08c88>"
      ]
     },
     "metadata": {},
     "output_type": "display_data"
    }
   ],
   "source": [
    "%matplotlib inline\n",
    "import matplotlib.pyplot as plt\n",
    "\n",
    "years = range(1750, 1920)\n",
    "\n",
    "series = Count.year_count_series(years)\n",
    "\n",
    "plt.title('Overall token volume, all pages')\n",
    "plt.xlabel('Year')\n",
    "plt.ylabel('Count')\n",
    "plt.plot(*zip(*series.items()))"
   ]
  },
  {
   "cell_type": "markdown",
   "metadata": {},
   "source": [
    "## Log-likelihoods, ranked and scaled\n",
    "\n",
    "So, two sets of counts - one for all pages, and the other just for pages that contain \"literature.\" Even though both are drawn from the same corpus, we can think of them as representing two distinct corpora - the corpus of \"literature\" pages, and the corpus of all pages, a sub-corpus and a super-corpus. The goal is simple - which words appear in the literature corpus at a higher-than-expected rate, when compared against the overall frequencies in the super-corpus?\n",
    "\n",
    "There are a couple of ways to go about this - a log-likelihood tests, the Mann-Whitney ranks test, and others. The log-likelihood is the most canonical and straightforward, though, so let's start with that. To measure the distinctiveness of \"history\" in 1900, we need 4 pieces of information:"
   ]
  },
  {
   "cell_type": "code",
   "execution_count": null,
   "metadata": {
    "collapsed": false
   },
   "outputs": [
    {
     "name": "stdout",
     "output_type": "stream",
     "text": [
      "The number of times \"history\" appears on pages that contain \"literature\":\n",
      "39363 \n",
      "\n",
      "The number of times \"history\" appears on all pages:\n",
      "291676 \n",
      "\n"
     ]
    }
   ],
   "source": [
    "a = AnchoredCount.token_year_count('history', 1900)\n",
    "print('The number of times \"history\" appears on pages that contain \"literature\":')\n",
    "print(a, '\\n')\n",
    "\n",
    "b = Count.token_year_count('history', 1900)\n",
    "print('The number of times \"history\" appears on all pages:')\n",
    "print(b, '\\n')\n",
    "\n",
    "c = AnchoredCount.year_count(1900)\n",
    "print('The total number of tokens observed on pages that contain \"literature\":')\n",
    "print(c, '\\n')\n",
    "\n",
    "d = Count.year_count(1900)\n",
    "print('The total number of tokens observed on all pages:')\n",
    "print(d)"
   ]
  },
  {
   "cell_type": "markdown",
   "metadata": {},
   "source": [
    "Then, we can use scipy's `chi2_contingency` function to calculate the log-likelihood:"
   ]
  },
  {
   "cell_type": "code",
   "execution_count": null,
   "metadata": {
    "collapsed": false
   },
   "outputs": [],
   "source": [
    "import numpy as np\n",
    "\n",
    "from scipy.stats import chi2_contingency\n",
    "\n",
    "g, p, dof, exp = chi2_contingency(\n",
    "    np.array([[a, b], [c, d]]),\n",
    "    lambda_='log-likelihood',\n",
    ")\n",
    "\n",
    "print(g)"
   ]
  },
  {
   "cell_type": "markdown",
   "metadata": {},
   "source": [
    "This is expensive to compute for an individual word, but it can be sped up by querying big batches of counts and calculating the scores in bulk. These get shoveled into a `score` table, which stores the token, the year, and the log-likelihood (\"score\"):\n",
    "\n",
    "```sql\n",
    "CREATE TABLE score (\n",
    "\ttoken VARCHAR NOT NULL, \n",
    "\tyear INTEGER NOT NULL, \n",
    "\tscore FLOAT NOT NULL, \n",
    "\tPRIMARY KEY (token, year)\n",
    ");\n",
    "```\n",
    "\n",
    "Once we've filled in this table with log-likelihood scores for each token in each year, we can generate a list of the words in a given year that are most associated with literature. Here's the list for 1900, pulling from pages that contain literature more than 3 times:"
   ]
  },
  {
   "cell_type": "code",
   "execution_count": null,
   "metadata": {
    "collapsed": false
   },
   "outputs": [],
   "source": [
    "import pprint\n",
    "\n",
    "from collections import OrderedDict\n",
    "from hol.models import Score\n",
    "\n",
    "topn = Score.topn_by_year(1790, 50)\n",
    "    \n",
    "pp = pprint.PrettyPrinter()\n",
    "pp.pprint(topn)"
   ]
  },
  {
   "cell_type": "markdown",
   "metadata": {},
   "source": [
    "Looks sensible, with a couple curiosities (\"of\"?). With this in hand, the next step is to pull these stats for each year, and string together time-series signals for each word to get a diachronic progression of it's stickiness with literature. But, out-of-the-box, this doesn't work. The problem is that the log-likelihood scores can be used to compare words within an individual year, but not _across_ years, because the values are boosted by the overall volumes of the tokens. This is actually a feature of the log-likelihood, not a bug - when scoring a word, it rewards tokens that both (a) have a higher-than-expected frequency in the analysis corpus and (b) have a high overall frequency in the reference corpus. This is important, because otherwise the top of the list would be swamped by very infrequent words. For instance, something that was expected to appear 1 time but actually appeared 5 times. If you just compare the values directly, this comes out to a 500% increase over the expected. But, since the numbers are so small, this could just be a fluke - a single page out of millions. The intuition behind log-likelihood is that we care much more about a word that's expected to appear 1,000 times but actually occurs 1,200. Just a 20% increase, but we can say with much more confidence that the difference is meaningful.\n",
    "\n",
    "So, log-likelihood is great for ranking words inside of a single year, but if we string the raw scores together into a time series, we end up just proxying the overall volume trend. For example, here's the log-likelihood series for \"history\":"
   ]
  },
  {
   "cell_type": "code",
   "execution_count": null,
   "metadata": {
    "collapsed": false
   },
   "outputs": [],
   "source": [
    "years = range(1750, 1920)\n",
    "\n",
    "series = Score.score_series_smooth('history', years)\n",
    "\n",
    "plt.title('Raw log-likelihood series')\n",
    "plt.xlabel('Year')\n",
    "plt.ylabel('Score')\n",
    "plt.plot(*zip(*series.items()))"
   ]
  },
  {
   "cell_type": "markdown",
   "metadata": {},
   "source": [
    "And the baseline frequency trend for \"history\":"
   ]
  },
  {
   "cell_type": "code",
   "execution_count": null,
   "metadata": {
    "collapsed": false
   },
   "outputs": [],
   "source": [
    "years = range(1750, 1920)\n",
    "\n",
    "series = Count.token_count_series_smooth('history', years)\n",
    "\n",
    "plt.title('Baseline volume trend')\n",
    "plt.xlabel('Year')\n",
    "plt.ylabel('Count')\n",
    "plt.plot(*zip(*series.items()))"
   ]
  },
  {
   "cell_type": "markdown",
   "metadata": {},
   "source": [
    "This is the same data, essentially, just with different units. We need a way to normalize the magnitudes of the log-likelihoods, similar to the words-per-million scaling that we use on the overall frequencies. This turns out to be a tricky and interesting problem. At first, I tried just scaling everything down to \"unit variance\" - slide and compress the scores so that they center around 0 and have a variance of 1. But, when I plotted the transformed scores, the trend lines were basically unchanged - still just a proxy for volume.\n",
    "\n",
    "This doesn't work, I think, because _the total number of unique word forms in a year increases along with the overall volume_. In other words, if we see 1,000 total tokens in the year 1800 and 100 unique words, then in 1900 there might be 10,000 total tokens but _1,000_ unique words, not just more occurrences of the same set of 100. Most of these new words will be un-correlated with \"literature,\" which has the effect of packing in lots of low-correlation words right around the mean at 0. Which, in turn, allows the high-magnitude outliers (the ones we care about) to creep further and further away from 0 over time - shadowing the overall volume - even though the variance is pegged at 1.\n",
    "\n",
    "Next, I tried this - for each year, use the log-likelihoods to compute a rank order for each word. So, if there are N unique word forms for the year, the most correlated word has a rank of N, and the least correlated has a rank of 1. Since N grows over time, I then scaled these ranks down to a 0-1 scale and plotted time series for the normalized ranks. But, this fails for the same reason - over time, as the size of the corpus increases and more and more word types come into view, words get packed into the bottom of these rankings, which has the effect of artificially pushing up the ranks of the high-correlation words. Not because of any meaningful change in their correlation with literature, but just to make room for all the new, uncorrelated words that have to get crammed into the bottom of the stack.\n",
    "\n",
    "## Vocabulary cropping\n",
    "\n",
    "In both cases, the root of the problem is this enormous growth in the size of the vocabulary - as new words pour into the system, the correlation scores get artificially shoved upwards, which drowns out the meaingful fluctuations that we care about. How to fix this? Could we somehow crop down the vocabulary, identify a fixed subset of words that are meaningful across time?\n",
    "\n",
    "Here's what I came up with:\n",
    "\n",
    "1. For each year, compute log-likelihoods for all words and generate a 500-word \"depth chart,\" like the one above. This represents the 500 words that are most significantly correlated with literature in that year.\n",
    "\n",
    "1. Loop through all of these lists and build up a set of unique word forms that appear in _any_ of the lists. This gives a set of ~5,000 words that are highly correlated with \"literature\" in any year between 1750 and 1920.\n",
    "\n",
    "1. For each word in this cropped-down set, generate a time-series out of the word's position in the per-year ranks. Eg, for year X, if word Y is at the bottom of the list, it gets a score of 1, or if it's at the top, 500.\n",
    "\n",
    "So, to circle back to \"history\":"
   ]
  },
  {
   "cell_type": "code",
   "execution_count": null,
   "metadata": {
    "collapsed": false,
    "scrolled": false
   },
   "outputs": [],
   "source": [
    "from hol.topn_series import TopnSeries\n",
    "\n",
    "years = range(1750, 1920)\n",
    "\n",
    "topns = TopnSeries(years)\n",
    "\n",
    "series = topns.rank_series_smooth('history')\n",
    "\n",
    "plt.title('Rank time series')\n",
    "plt.xlabel('Year')\n",
    "plt.ylabel('Rank')\n",
    "plt.xlim(1750, 1920)\n",
    "plt.plot(*zip(*series.items()))\n",
    "plt.show()"
   ]
  },
  {
   "cell_type": "markdown",
   "metadata": {},
   "source": [
    "History rockets to the top of the stack between 1890 and 19000, and stays almost (when not exactly) at the top through 1920 - a far cry from the raw log-likelihood signal, which tells a very misleading story:"
   ]
  },
  {
   "cell_type": "code",
   "execution_count": null,
   "metadata": {
    "collapsed": false
   },
   "outputs": [],
   "source": [
    "years = range(1750, 1920)\n",
    "\n",
    "series = Score.score_series_smooth('history', years)\n",
    "\n",
    "plt.title('Raw log-likelihood series')\n",
    "plt.xlabel('Year')\n",
    "plt.ylabel('Score')\n",
    "plt.xlim(1750, 1920)\n",
    "plt.plot(*zip(*series.items()))"
   ]
  },
  {
   "cell_type": "markdown",
   "metadata": {},
   "source": [
    "## Interesting words\n",
    "\n",
    "Now, the final step - given the set of ~5k words that correlate with \"literature\" at some point between 1750 and 1920, how do we pick out words with _interesting_ signals - words that have a dynamic relationship with literature, that rise and fall over time, spike at some particular moment in history? This is essentially a signal processing problem, and there are a number of more and less sophisticated ways we could go about it.\n",
    "\n",
    "To start, though, I took a (very) simple approach - just compute the raw variance of the values in the time series. This actually seems to do a fairly good job - take a look at the appendix for a complete listing of the top 500 words, ranked in terms of signal variance. I think there's some very interesting stuff here. I won't go into it in too much detail at this point, other than to call out a handful of things that caught my eye.\n",
    "\n",
    "### Words about pedagogy"
   ]
  },
  {
   "cell_type": "code",
   "execution_count": null,
   "metadata": {
    "collapsed": false,
    "scrolled": false
   },
   "outputs": [],
   "source": [
    "def plot_ranks(tokens):    \n",
    "    for token in tokens:\n",
    "\n",
    "        years = range(1750, 1920)\n",
    "        series = topns.rank_series_smooth(token)\n",
    "        \n",
    "        print(token)\n",
    "\n",
    "        plt.title(token)\n",
    "        plt.xlabel('Year')\n",
    "        plt.ylabel('Log-likelihood rank')\n",
    "        plt.ylim(0, 1000)\n",
    "        plt.plot(*zip(*series.items()))\n",
    "        plt.show()\n",
    "    \n",
    "plot_ranks([\n",
    "    'lessons',\n",
    "    'instructor',\n",
    "    'educational',\n",
    "    'course',\n",
    "    'teaching',\n",
    "    'courses',\n",
    "    'schools',\n",
    "    'college',\n",
    "    'student',\n",
    "    'professor',\n",
    "    'pupils',\n",
    "    'academy',\n",
    "])"
   ]
  },
  {
   "cell_type": "markdown",
   "metadata": {},
   "source": [
    "### Business"
   ]
  },
  {
   "cell_type": "code",
   "execution_count": null,
   "metadata": {
    "collapsed": false,
    "scrolled": false
   },
   "outputs": [],
   "source": [
    "plot_ranks([\n",
    "    'contract',\n",
    "    'pay',\n",
    "    'cent',\n",
    "    'paid',\n",
    "    'estate',\n",
    "    'bank',\n",
    "    'company',\n",
    "    'property',\n",
    "])"
   ]
  },
  {
   "cell_type": "markdown",
   "metadata": {},
   "source": [
    "### Religion"
   ]
  },
  {
   "cell_type": "code",
   "execution_count": null,
   "metadata": {
    "collapsed": false,
    "scrolled": false
   },
   "outputs": [],
   "source": [
    "plot_ranks([\n",
    "    'god',\n",
    "    'jesus',\n",
    "    'christ',\n",
    "    'lord',\n",
    "    'sin',\n",
    "    'biblical',\n",
    "    'religious',\n",
    "    'religion',\n",
    "    'christian',\n",
    "])"
   ]
  },
  {
   "cell_type": "markdown",
   "metadata": {},
   "source": [
    "### Scholarship"
   ]
  },
  {
   "cell_type": "code",
   "execution_count": null,
   "metadata": {
    "collapsed": false
   },
   "outputs": [],
   "source": [
    "plot_ranks([\n",
    "    'scholarship',\n",
    "    'texts',\n",
    "    'comparative',\n",
    "    'criticism',\n",
    "    'studies',\n",
    "    'intellectual',\n",
    "])"
   ]
  },
  {
   "cell_type": "markdown",
   "metadata": {},
   "source": [
    "### Periods"
   ]
  },
  {
   "cell_type": "code",
   "execution_count": null,
   "metadata": {
    "collapsed": false
   },
   "outputs": [],
   "source": [
    "plot_ranks([\n",
    "    'renaissance',\n",
    "    'victorian',\n",
    "    'eighteenth',\n",
    "    'nineteenth',\n",
    "])"
   ]
  },
  {
   "cell_type": "markdown",
   "metadata": {},
   "source": [
    "### Genres and formats"
   ]
  },
  {
   "cell_type": "code",
   "execution_count": null,
   "metadata": {
    "collapsed": false
   },
   "outputs": [],
   "source": [
    "plot_ranks([\n",
    "    'novel',\n",
    "    'romance',\n",
    "    'plays',\n",
    "    'essay',\n",
    "    'weekly',\n",
    "    'serial',\n",
    "])"
   ]
  },
  {
   "cell_type": "markdown",
   "metadata": {},
   "source": [
    "### Self-improvement, pleasure"
   ]
  },
  {
   "cell_type": "code",
   "execution_count": null,
   "metadata": {
    "collapsed": false
   },
   "outputs": [],
   "source": [
    "plot_ranks([\n",
    "    'cultivation',\n",
    "    'taste',\n",
    "    'appreciation',\n",
    "    'useful',\n",
    "    'entertaining',\n",
    "])"
   ]
  },
  {
   "cell_type": "markdown",
   "metadata": {},
   "source": [
    "### Authors"
   ]
  },
  {
   "cell_type": "code",
   "execution_count": null,
   "metadata": {
    "collapsed": false
   },
   "outputs": [],
   "source": [
    "plot_ranks([\n",
    "    'homer',\n",
    "    'shakespeare',\n",
    "])"
   ]
  },
  {
   "cell_type": "markdown",
   "metadata": {},
   "source": [
    "### The sciences, hard and soft"
   ]
  },
  {
   "cell_type": "code",
   "execution_count": null,
   "metadata": {
    "collapsed": false
   },
   "outputs": [],
   "source": [
    "plot_ranks([\n",
    "    'sciences',\n",
    "    'scientific',\n",
    "    'physics',\n",
    "    'chemistry',\n",
    "    'psychology',\n",
    "])"
   ]
  },
  {
   "cell_type": "markdown",
   "metadata": {},
   "source": [
    "### Cleverness"
   ]
  },
  {
   "cell_type": "code",
   "execution_count": null,
   "metadata": {
    "collapsed": false
   },
   "outputs": [],
   "source": [
    "plot_ranks([\n",
    "    'genius',\n",
    "    'talent',\n",
    "])"
   ]
  },
  {
   "cell_type": "markdown",
   "metadata": {},
   "source": [
    "### Appraisal, judgement"
   ]
  },
  {
   "cell_type": "code",
   "execution_count": null,
   "metadata": {
    "collapsed": false
   },
   "outputs": [],
   "source": [
    "plot_ranks([\n",
    "    'best',\n",
    "    'great',\n",
    "])"
   ]
  },
  {
   "cell_type": "markdown",
   "metadata": {},
   "source": [
    "### Gender"
   ]
  },
  {
   "cell_type": "code",
   "execution_count": null,
   "metadata": {
    "collapsed": false
   },
   "outputs": [],
   "source": [
    "plot_ranks([\n",
    "    'he',\n",
    "    'him',\n",
    "    'she',\n",
    "    'her'\n",
    "])"
   ]
  },
  {
   "cell_type": "markdown",
   "metadata": {},
   "source": [
    "### The first person"
   ]
  },
  {
   "cell_type": "code",
   "execution_count": null,
   "metadata": {
    "collapsed": false
   },
   "outputs": [],
   "source": [
    "plot_ranks([\n",
    "    'me',\n",
    "    'my',\n",
    "    'i',\n",
    "])"
   ]
  },
  {
   "cell_type": "markdown",
   "metadata": {},
   "source": [
    "### Nationalities, ethnicities, regions"
   ]
  },
  {
   "cell_type": "code",
   "execution_count": null,
   "metadata": {
    "collapsed": false,
    "scrolled": false
   },
   "outputs": [],
   "source": [
    "plot_ranks([\n",
    "    'jewish',\n",
    "    'irish', \n",
    "    'welsh',\n",
    "    'russian',\n",
    "    'greeks',\n",
    "    'polish',\n",
    "    'celtic',\n",
    "    'spanish',\n",
    "    'france',\n",
    "    'america',\n",
    "    'american',\n",
    "    'europe',\n",
    "    'european',\n",
    "    'italy',\n",
    "    'london',\n",
    "    'england',\n",
    "    'greece',\n",
    "    'boston',\n",
    "    'germany',\n",
    "])"
   ]
  },
  {
   "cell_type": "markdown",
   "metadata": {},
   "source": [
    "### Miscellaneous"
   ]
  },
  {
   "cell_type": "code",
   "execution_count": null,
   "metadata": {
    "collapsed": false,
    "scrolled": false
   },
   "outputs": [],
   "source": [
    "plot_ranks([\n",
    "    'story',\n",
    "    'newspaper',\n",
    "    'printing',\n",
    "    'ideals',\n",
    "    'liberal',\n",
    "    'politics',\n",
    "    'translation',\n",
    "    'cloth',\n",
    "])"
   ]
  },
  {
   "cell_type": "code",
   "execution_count": null,
   "metadata": {
    "collapsed": true
   },
   "outputs": [],
   "source": []
  }
 ],
 "metadata": {
  "kernelspec": {
   "display_name": "Python 3",
   "language": "python",
   "name": "python3"
  },
  "language_info": {
   "codemirror_mode": {
    "name": "ipython",
    "version": 3
   },
   "file_extension": ".py",
   "mimetype": "text/x-python",
   "name": "python",
   "nbconvert_exporter": "python",
   "pygments_lexer": "ipython3",
   "version": "3.5.0"
  }
 },
 "nbformat": 4,
 "nbformat_minor": 0
}
