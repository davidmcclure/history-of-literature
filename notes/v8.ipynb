{
 "cells": [
  {
   "cell_type": "markdown",
   "metadata": {},
   "source": [
    "### WPM ratios"
   ]
  },
  {
   "cell_type": "code",
   "execution_count": 1,
   "metadata": {
    "collapsed": false
   },
   "outputs": [],
   "source": [
    "import matplotlib.pyplot as plt\n",
    "import matplotlib.ticker as ticker\n",
    "%matplotlib inline\n",
    "\n",
    "from hol.wpm_ratios import WPMRatios\n",
    "\n",
    "ratios = WPMRatios(1750, 1920)"
   ]
  },
  {
   "cell_type": "code",
   "execution_count": 13,
   "metadata": {
    "collapsed": false
   },
   "outputs": [
    {
     "name": "stdout",
     "output_type": "stream",
     "text": [
      "5.77236157145e-16\n"
     ]
    },
    {
     "data": {
      "image/png": "[encoded data removed]",
      "text/plain": [
       "<matplotlib.figure.Figure at 0x12bf43d68>"
      ]
     },
     "metadata": {},
     "output_type": "display_data"
    }
   ],
   "source": [
    "series = ratios.series_smooth('jesus')\n",
    "\n",
    "reg = ratios.lin_reg('jesus')\n",
    "\n",
    "x1 = list(series.keys())[0]\n",
    "x2 = list(series.keys())[-1]\n",
    "\n",
    "r1 = list(series.values())[0]\n",
    "r2 = list(series.values())[-1]\n",
    "\n",
    "y1 = (reg.slope * x1) + reg.intercept\n",
    "y2 = (reg.slope * x2) + reg.intercept\n",
    "\n",
    "plt.title('WPM ratio - lit pages / all pages')\n",
    "plt.xlabel('Year')\n",
    "plt.ylabel('Ratio')\n",
    "plt.plot(*zip(*series.items()))\n",
    "plt.plot([x1, x2], [y1, y2], color='gray', linewidth=0.5)\n",
    "\n",
    "print(reg.pvalue)"
   ]
  },
  {
   "cell_type": "code",
   "execution_count": null,
   "metadata": {
    "collapsed": true
   },
   "outputs": [],
   "source": []
  }
 ],
 "metadata": {
  "kernelspec": {
   "display_name": "Python 3",
   "language": "python",
   "name": "python3"
  },
  "language_info": {
   "codemirror_mode": {
    "name": "ipython",
    "version": 3
   },
   "file_extension": ".py",
   "mimetype": "text/x-python",
   "name": "python",
   "nbconvert_exporter": "python",
   "pygments_lexer": "ipython3",
   "version": "3.5.0"
  }
 },
 "nbformat": 4,
 "nbformat_minor": 0
}
