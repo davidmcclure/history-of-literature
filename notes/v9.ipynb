{
 "cells": [
  {
   "cell_type": "code",
   "execution_count": 1,
   "metadata": {
    "collapsed": true
   },
   "outputs": [],
   "source": [
    "import matplotlib.pyplot as plt\n",
    "import matplotlib.ticker as ticker\n",
    "%matplotlib inline\n",
    "\n",
    "from hol.wpm_ratios import WPMRatios\n",
    "\n",
    "year1 = 1750\n",
    "year2 = 1920\n",
    "\n",
    "ratios = WPMRatios(year1, year2)"
   ]
  },
  {
   "cell_type": "markdown",
   "metadata": {},
   "source": [
    "### Raw ratio series"
   ]
  },
  {
   "cell_type": "code",
   "execution_count": 21,
   "metadata": {
    "collapsed": false
   },
   "outputs": [
    {
     "data": {
      "text/plain": [
       "[<matplotlib.lines.Line2D at 0x1258c19e8>]"
      ]
     },
     "execution_count": 21,
     "metadata": {},
     "output_type": "execute_result"
    },
    {
     "data": {
      "image/png": "[encoded data removed]",
      "text/plain": [
       "<matplotlib.figure.Figure at 0x12641b438>"
      ]
     },
     "metadata": {},
     "output_type": "display_data"
    }
   ],
   "source": [
    "series = ratios.ratios['jesus']\n",
    "\n",
    "plt.title('WPM ratio - lit pages / all pages')\n",
    "plt.xlabel('Year')\n",
    "plt.ylabel('Ratio')\n",
    "\n",
    "plt.plot(\n",
    "    *zip(*series.items()),\n",
    "    linestyle='none',\n",
    "    marker='.',\n",
    "    markersize=4,\n",
    ")"
   ]
  },
  {
   "cell_type": "code",
   "execution_count": 23,
   "metadata": {
    "collapsed": false
   },
   "outputs": [
    {
     "name": "stdout",
     "output_type": "stream",
     "text": [
      "[ True  True  True  True  True  True  True  True  True  True  True  True\n",
      "  True  True  True  True  True  True  True  True  True  True  True  True\n",
      "  True  True  True  True  True False  True  True  True  True  True  True\n",
      "  True  True  True  True  True  True  True  True  True  True  True  True\n",
      "  True  True  True  True  True  True  True  True  True  True  True  True\n",
      "  True  True  True  True  True  True  True  True  True  True  True  True\n",
      "  True  True  True  True  True  True  True  True  True  True  True  True\n",
      "  True  True  True  True  True  True  True  True  True  True  True  True\n",
      "  True  True  True  True  True  True  True  True  True  True  True  True\n",
      "  True  True  True  True  True  True  True  True  True  True  True  True\n",
      "  True  True  True  True  True  True  True  True  True  True  True  True\n",
      "  True  True  True  True  True  True  True  True  True  True  True  True\n",
      "  True  True  True  True  True  True  True  True  True  True  True False\n",
      "  True  True False False False False False False False False False False\n",
      " False False False]\n",
      "-0.291347331867\n"
     ]
    },
    {
     "data": {
      "text/plain": [
       "[<matplotlib.lines.Line2D at 0x125494e10>]"
      ]
     },
     "execution_count": 23,
     "metadata": {},
     "output_type": "execute_result"
    },
    {
     "data": {
      "image/png": "[encoded data removed]",
      "text/plain": [
       "<matplotlib.figure.Figure at 0x125790668>"
      ]
     },
     "metadata": {},
     "output_type": "display_data"
    }
   ],
   "source": [
    "import numpy as np\n",
    "\n",
    "from collections import OrderedDict\n",
    "from sklearn.covariance import EllipticEnvelope\n",
    "from scipy import stats\n",
    "\n",
    "X = np.array(list(series.values()))[:, np.newaxis]\n",
    "\n",
    "ee = EllipticEnvelope()\n",
    "ee.fit(X)\n",
    "\n",
    "y_pred = ee.decision_function(X).ravel()\n",
    "threshold = stats.scoreatpercentile(y_pred, len(series) * 0.05)\n",
    "y_pred = y_pred > threshold\n",
    "\n",
    "print(y_pred)\n",
    "print(threshold)\n",
    "\n",
    "cleaned = OrderedDict()\n",
    "for (token, ratio), inlier in zip(series.items(), y_pred):\n",
    "    if inlier:\n",
    "        cleaned[token] = ratio\n",
    "        \n",
    "plt.title('WPM ratio - lit pages / all pages')\n",
    "plt.xlabel('Year')\n",
    "plt.ylabel('Ratio')\n",
    "\n",
    "plt.plot(\n",
    "    *zip(*cleaned.items()),\n",
    "    linestyle='none',\n",
    "    marker='.',\n",
    "    markersize=4,\n",
    ")"
   ]
  },
  {
   "cell_type": "code",
   "execution_count": null,
   "metadata": {
    "collapsed": true
   },
   "outputs": [],
   "source": []
  }
 ],
 "metadata": {
  "kernelspec": {
   "display_name": "Python 3",
   "language": "python",
   "name": "python3"
  },
  "language_info": {
   "codemirror_mode": {
    "name": "ipython",
    "version": 3
   },
   "file_extension": ".py",
   "mimetype": "text/x-python",
   "name": "python",
   "nbconvert_exporter": "python",
   "pygments_lexer": "ipython3",
   "version": "3.5.0"
  }
 },
 "nbformat": 4,
 "nbformat_minor": 0
}
