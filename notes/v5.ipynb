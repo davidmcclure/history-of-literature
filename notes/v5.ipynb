{
 "cells": [
  {
   "cell_type": "code",
   "execution_count": null,
   "metadata": {
    "collapsed": false,
    "scrolled": false
   },
   "outputs": [],
   "source": [
    "from difflib import SequenceMatcher\n",
    "\n",
    "from hol import config\n",
    "from hol.models import AnchoredCount\n",
    "\n",
    "levels = AnchoredCount.levels()\n",
    "\n",
    "mdw_cache = config.mem.cache(AnchoredCount.mdw)\n",
    "\n",
    "level_mdw = {\n",
    "    level: mdw_cache(level1=level, level2=level)\n",
    "    for level in levels\n",
    "}"
   ]
  },
  {
   "cell_type": "markdown",
   "metadata": {},
   "source": [
    "### level -> mdw size"
   ]
  },
  {
   "cell_type": "code",
   "execution_count": 17,
   "metadata": {
    "collapsed": false
   },
   "outputs": [
    {
     "name": "stdout",
     "output_type": "stream",
     "text": [
      "1 9481\n",
      "2 9404\n",
      "3 9315\n",
      "4 9202\n",
      "5 9071\n",
      "6 8922\n",
      "7 8721\n",
      "8 8528\n",
      "9 8199\n",
      "10 7840\n",
      "11 7387\n",
      "12 6846\n",
      "13 6415\n",
      "14 5874\n",
      "15 5239\n",
      "16 4610\n",
      "17 4086\n",
      "18 3291\n",
      "19 3552\n",
      "20 2412\n",
      "21 2807\n",
      "22 1960\n",
      "23 1799\n",
      "24 2422\n",
      "25 1994\n",
      "26 1207\n",
      "27 1106\n",
      "28 906\n",
      "29 646\n",
      "30 759\n",
      "31 840\n",
      "32 951\n",
      "33 361\n",
      "34 734\n",
      "35 310\n",
      "36 456\n",
      "38 410\n",
      "39 593\n",
      "40 175\n",
      "41 222\n",
      "42 215\n",
      "43 245\n",
      "44 317\n",
      "46 174\n",
      "49 244\n",
      "53 189\n",
      "54 211\n",
      "57 125\n",
      "60 132\n"
     ]
    }
   ],
   "source": [
    "for level, mdw in level_mdw.items():\n",
    "    print(level, len(mdw))"
   ]
  },
  {
   "cell_type": "markdown",
   "metadata": {},
   "source": [
    "### Synchronic edit distance from level 1\n",
    "\n",
    "The edit distance between the MDWs for each successive level (for all years) and the level 1 list:"
   ]
  },
  {
   "cell_type": "code",
   "execution_count": 34,
   "metadata": {
    "collapsed": false
   },
   "outputs": [
    {
     "data": {
      "text/plain": [
       "[<matplotlib.lines.Line2D at 0x10ab2c128>]"
      ]
     },
     "execution_count": 34,
     "metadata": {},
     "output_type": "execute_result"
    },
    {
     "data": {
      "image/png": "[encoded data removed]",
      "text/plain": [
       "<matplotlib.figure.Figure at 0x10a3b17b8>"
      ]
     },
     "metadata": {},
     "output_type": "display_data"
    }
   ],
   "source": [
    "from distance import levenshtein\n",
    "\n",
    "%matplotlib inline\n",
    "import matplotlib.pyplot as plt\n",
    "\n",
    "topn1 = list(level_mdw[1].keys())[:300]\n",
    "\n",
    "ratios = {}\n",
    "for level in levels[1:35]:\n",
    "    topni = list(level_mdw[level].keys())[:300]\n",
    "    ratios[level] = levenshtein(topn1, topni)\n",
    "\n",
    "plt.plot(*zip(*ratios.items()))"
   ]
  },
  {
   "cell_type": "markdown",
   "metadata": {},
   "source": [
    "- everything packerup near the top, within 10 of the max.\n",
    "- spikes up quickly, levels off slightly at ~5, then increases more slowly up to the max."
   ]
  },
  {
   "cell_type": "markdown",
   "metadata": {},
   "source": [
    "### Sliding pairwise edit distance between ranks\n",
    "\n",
    "The edit distance between each successive pair of levels - (1,2), (3,4), etc."
   ]
  },
  {
   "cell_type": "code",
   "execution_count": 37,
   "metadata": {
    "collapsed": false
   },
   "outputs": [
    {
     "data": {
      "text/plain": [
       "[<matplotlib.lines.Line2D at 0x10ad82e10>]"
      ]
     },
     "execution_count": 37,
     "metadata": {},
     "output_type": "execute_result"
    },
    {
     "data": {
      "image/png": "[encoded data removed]",
      "text/plain": [
       "<matplotlib.figure.Figure at 0x10ab4feb8>"
      ]
     },
     "metadata": {},
     "output_type": "display_data"
    }
   ],
   "source": [
    "from hol.utils import window\n",
    "\n",
    "ratios = {}\n",
    "for w in window(levels[:35], 2):\n",
    "    \n",
    "    topn1 = list(level_mdw[w[0]].keys())[:300]\n",
    "    topn2 = list(level_mdw[w[-1]].keys())[:300]\n",
    "    \n",
    "    ratios[w[-1]] = levenshtein(topn1, topn2)\n",
    "    \n",
    "plt.plot(*zip(*ratios.items()))"
   ]
  },
  {
   "cell_type": "markdown",
   "metadata": {},
   "source": [
    "- around 5, from 4-6, the rate of change is slower, the successive lists more similar.\n",
    "- 5 is an inflection point? the place around which the community is most stable?\n",
    "- as the level goes up towards 30, the overall volume shoots way down - is the rate of change just a sampling issue?"
   ]
  },
  {
   "cell_type": "code",
   "execution_count": null,
   "metadata": {
    "collapsed": true
   },
   "outputs": [],
   "source": []
  }
 ],
 "metadata": {
  "kernelspec": {
   "display_name": "Python 3",
   "language": "python",
   "name": "python3"
  },
  "language_info": {
   "codemirror_mode": {
    "name": "ipython",
    "version": 3
   },
   "file_extension": ".py",
   "mimetype": "text/x-python",
   "name": "python",
   "nbconvert_exporter": "python",
   "pygments_lexer": "ipython3",
   "version": "3.5.0"
  }
 },
 "nbformat": 4,
 "nbformat_minor": 0
}
