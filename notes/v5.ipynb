{
 "cells": [
  {
   "cell_type": "code",
   "execution_count": null,
   "metadata": {
    "collapsed": false,
    "scrolled": false
   },
   "outputs": [],
   "source": [
    "from hol.level_series import LevelSeries\n",
    "\n",
    "import matplotlib.pyplot as plt\n",
    "%matplotlib inline\n",
    "\n",
    "# Synchronic level topns.\n",
    "topns = LevelSeries(range(1, 20), depth=1000)"
   ]
  },
  {
   "cell_type": "markdown",
   "metadata": {},
   "source": [
    "### Synchronic edit distance from level 1\n",
    "\n",
    "The edit distance between the MDWs for each successive level (for all years) and the level 1 list:"
   ]
  },
  {
   "cell_type": "code",
   "execution_count": 39,
   "metadata": {
    "collapsed": false
   },
   "outputs": [
    {
     "data": {
      "text/plain": [
       "[<matplotlib.lines.Line2D at 0x1092d6438>]"
      ]
     },
     "execution_count": 39,
     "metadata": {},
     "output_type": "execute_result"
    },
    {
     "data": {
      "image/png": "[encoded data removed]",
      "text/plain": [
       "<matplotlib.figure.Figure at 0x10a65e5c0>"
      ]
     },
     "metadata": {},
     "output_type": "display_data"
    }
   ],
   "source": [
    "from distance import jaccard\n",
    "\n",
    "%matplotlib inline\n",
    "import matplotlib.pyplot as plt\n",
    "\n",
    "topn1 = list(level_mdw[1].keys())[:300]\n",
    "\n",
    "ratios = {}\n",
    "for level in levels[1:35]:\n",
    "    topni = list(level_mdw[level].keys())[:300]\n",
    "    ratios[level] = jaccard(topn1, topni)\n",
    "\n",
    "plt.plot(*zip(*ratios.items()))"
   ]
  },
  {
   "cell_type": "markdown",
   "metadata": {},
   "source": [
    "- everything packerup near the top, within 10 of the max.\n",
    "- spikes up quickly, levels off slightly at ~5, then increases more slowly up to the max."
   ]
  },
  {
   "cell_type": "markdown",
   "metadata": {},
   "source": [
    "- around 5, from 4-6, the rate of change is slower, the successive lists more similar.\n",
    "- 5 is an inflection point? the place around which the community is most stable?\n",
    "- as the level goes up towards 30, the overall volume shoots way down - is the rate of change just a sampling issue?"
   ]
  },
  {
   "cell_type": "code",
   "execution_count": null,
   "metadata": {
    "collapsed": true
   },
   "outputs": [],
   "source": []
  }
 ],
 "metadata": {
  "kernelspec": {
   "display_name": "Python 3",
   "language": "python",
   "name": "python3"
  },
  "language_info": {
   "codemirror_mode": {
    "name": "ipython",
    "version": 3
   },
   "file_extension": ".py",
   "mimetype": "text/x-python",
   "name": "python",
   "nbconvert_exporter": "python",
   "pygments_lexer": "ipython3",
   "version": "3.5.0"
  }
 },
 "nbformat": 4,
 "nbformat_minor": 0
}
