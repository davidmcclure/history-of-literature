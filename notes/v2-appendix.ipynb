{
 "cells": [
  {
   "cell_type": "markdown",
   "metadata": {},
   "source": [
    "## Appendix\n",
    "\n",
    "To chew on it all - here are the volume + literature-rank plots for the top 200 words, ranked by the variance of the literature signal."
   ]
  },
  {
   "cell_type": "code",
   "execution_count": null,
   "metadata": {
    "collapsed": false,
    "scrolled": false
   },
   "outputs": [],
   "source": [
    "from hol.models import Score\n",
    "\n",
    "import matplotlib.pyplot as plt\n",
    "%matplotlib inline\n",
    "\n",
    "years = range(1750, 1920)\n",
    "\n",
    "tsv = Score.ranked_series(years)\n",
    "\n",
    "def plot_lit_rank(token):\n",
    "    series = tsv[token][0]\n",
    "    plt.title('\"Literature\" pages - {0}'.format(token))\n",
    "    plt.xlabel('Year')\n",
    "    plt.ylabel('Score')\n",
    "    plt.xlim(years[0], years[-1])\n",
    "    plt.plot(*zip(*series.items()))\n",
    "    plt.show()\n",
    "\n",
    "for token in list(tsv.keys())[:200]:\n",
    "    print(token)\n",
    "    plot_lit_rank(token)"
   ]
  },
  {
   "cell_type": "code",
   "execution_count": null,
   "metadata": {
    "collapsed": true
   },
   "outputs": [],
   "source": []
  }
 ],
 "metadata": {
  "kernelspec": {
   "display_name": "Python 3",
   "language": "python",
   "name": "python3"
  },
  "language_info": {
   "codemirror_mode": {
    "name": "ipython",
    "version": 3
   },
   "file_extension": ".py",
   "mimetype": "text/x-python",
   "name": "python",
   "nbconvert_exporter": "python",
   "pygments_lexer": "ipython3",
   "version": "3.5.0"
  }
 },
 "nbformat": 4,
 "nbformat_minor": 0
}
